{
 "cells": [
  {
   "cell_type": "markdown",
   "metadata": {
    "id": "kQQUP_K2r7yp"
   },
   "source": [
    "## Jupyter widget echo: Jupyter Notebook/Lab\n",
    "\n",
    "[![Binder][binder_badge]][binder_jupyterlab_url]\n",
    "\n",
    "[binder_badge]: https://mybinder.org/badge_logo.svg\n",
    "[binder_jupyterlab_url]: https://mybinder.org/v2/gh/kylebarron/jupyter-widget-echo-testing/master?labpath=jupyter_example.ipynb\n",
    "\n",
    "\n",
    "This notebook serves to show how the missing features for Jupyter Widgets in Colab are handled in Jupyter Notebook/Lab.\n",
    "\n",
    "The idea is:\n",
    "\n",
    "- Use a custom jupyter widget created just for debugging message transport between Python and JS\n",
    "- Send messages from Python to JS\n",
    "- Ping messages from JS back to Python\n",
    "- Store messages as a list on the Python side in the `ExampleWidget.messages`-\n"
   ]
  },
  {
   "cell_type": "markdown",
   "metadata": {},
   "source": [
    "Import widget"
   ]
  },
  {
   "cell_type": "code",
   "execution_count": 1,
   "metadata": {
    "id": "oVqws0ScpCs1"
   },
   "outputs": [],
   "source": [
    "from jupyter_widget_echo_testing import ExampleWidget"
   ]
  },
  {
   "cell_type": "markdown",
   "metadata": {
    "id": "CL5-iKoXrqEc"
   },
   "source": [
    "Whenever we set the `value` property on the widget, the JS side sends a message back to Python. (See here: https://github.com/kylebarron/jupyter-widget-echo-testing/blob/bbcff9fa6d838377182c1d077bec673303fcd087/src/widget.ts#L55-L58)"
   ]
  },
  {
   "cell_type": "code",
   "execution_count": 2,
   "metadata": {
    "colab": {
     "base_uri": "https://localhost:8080/",
     "height": 52,
     "referenced_widgets": [
      "d023c7458f2d43d5bbe47decbc01d168",
      "35ec37e76bdf430fb3e04408721563b2"
     ]
    },
    "id": "Bm_udwpNpFjF",
    "outputId": "d8657ae5-f244-4ee2-babf-d8ee9744602c"
   },
   "outputs": [
    {
     "data": {
      "application/vnd.jupyter.widget-view+json": {
       "model_id": "5d7ef18110b84545934b17ad795e1063",
       "version_major": 2,
       "version_minor": 0
      },
      "text/plain": [
       "ExampleWidget()"
      ]
     },
     "metadata": {},
     "output_type": "display_data"
    }
   ],
   "source": [
    "w = ExampleWidget()\n",
    "w"
   ]
  },
  {
   "cell_type": "markdown",
   "metadata": {
    "id": "d5zt-vtQrxuq"
   },
   "source": [
    "And on the Python side, the value of `messages` now contains one object:\n",
    "\n",
    "```py\n",
    "[{'value': 'Hello World'}]\n",
    "```\n",
    "\n",
    "This shows that JavaScript to Python messages over the Comm are still working normally."
   ]
  },
  {
   "cell_type": "code",
   "execution_count": 3,
   "metadata": {
    "colab": {
     "base_uri": "https://localhost:8080/"
    },
    "id": "11a_QEDUpHrN",
    "outputId": "1beae90f-daa8-4799-846a-42b958ad85ba"
   },
   "outputs": [
    {
     "data": {
      "text/plain": [
       "[{'value': 'Hello World'}]"
      ]
     },
     "execution_count": 3,
     "metadata": {},
     "output_type": "execute_result"
    }
   ],
   "source": [
    "w.messages"
   ]
  },
  {
   "cell_type": "markdown",
   "metadata": {},
   "source": [
    "In contrast to Colab, we can set the value in a new cell, and it will:\n",
    "\n",
    "- Get passed correctly to the JS side\n",
    "- The value in the above widget view will be updated\n",
    "- We get a message back in Python"
   ]
  },
  {
   "cell_type": "code",
   "execution_count": 4,
   "metadata": {},
   "outputs": [],
   "source": [
    "w.value = '1234'"
   ]
  },
  {
   "cell_type": "markdown",
   "metadata": {},
   "source": [
    "Now the value of the `messages` array in Python has this new value:"
   ]
  },
  {
   "cell_type": "code",
   "execution_count": 5,
   "metadata": {},
   "outputs": [
    {
     "data": {
      "text/plain": [
       "[{'value': 'Hello World'}, {'value': '1234'}]"
      ]
     },
     "execution_count": 5,
     "metadata": {},
     "output_type": "execute_result"
    }
   ],
   "source": [
    "w.messages"
   ]
  },
  {
   "cell_type": "markdown",
   "metadata": {},
   "source": [
    "We can also send an arbitrary object to JS and that will be echoed back to Python:"
   ]
  },
  {
   "cell_type": "code",
   "execution_count": 6,
   "metadata": {
    "id": "a-XE0wBCqpKP"
   },
   "outputs": [],
   "source": [
    "w.send({'foo': 'bar'})"
   ]
  },
  {
   "cell_type": "code",
   "execution_count": 7,
   "metadata": {
    "colab": {
     "base_uri": "https://localhost:8080/"
    },
    "id": "SkPwc4Cfs7h8",
    "outputId": "1cddcf12-58ed-4463-d9e2-4e1134fdc7b9"
   },
   "outputs": [
    {
     "data": {
      "text/plain": [
       "[{'value': 'Hello World'}, {'value': '1234'}, {'foo': 'bar'}]"
      ]
     },
     "execution_count": 7,
     "metadata": {},
     "output_type": "execute_result"
    }
   ],
   "source": [
    "w.messages"
   ]
  },
  {
   "cell_type": "code",
   "execution_count": null,
   "metadata": {
    "id": "XHTDVj4Lqel8"
   },
   "outputs": [],
   "source": []
  }
 ],
 "metadata": {
  "colab": {
   "authorship_tag": "ABX9TyN0cstcMrzcQkx5F4w9si2P",
   "collapsed_sections": [],
   "include_colab_link": true,
   "name": "Colab example.ipynb",
   "provenance": []
  },
  "kernelspec": {
   "display_name": "Python 3 (ipykernel)",
   "language": "python",
   "name": "python3"
  },
  "language_info": {
   "codemirror_mode": {
    "name": "ipython",
    "version": 3
   },
   "file_extension": ".py",
   "mimetype": "text/x-python",
   "name": "python",
   "nbconvert_exporter": "python",
   "pygments_lexer": "ipython3",
   "version": "3.8.10"
  },
  "widgets": {
   "application/vnd.jupyter.widget-state+json": {
    "35ec37e76bdf430fb3e04408721563b2": {
     "model_module": "@jupyter-widgets/base",
     "model_module_version": "1.2.0",
     "model_name": "LayoutModel",
     "state": {
      "_model_module": "@jupyter-widgets/base",
      "_model_module_version": "1.2.0",
      "_model_name": "LayoutModel",
      "_view_count": null,
      "_view_module": "@jupyter-widgets/base",
      "_view_module_version": "1.2.0",
      "_view_name": "LayoutView",
      "align_content": null,
      "align_items": null,
      "align_self": null,
      "border": null,
      "bottom": null,
      "display": null,
      "flex": null,
      "flex_flow": null,
      "grid_area": null,
      "grid_auto_columns": null,
      "grid_auto_flow": null,
      "grid_auto_rows": null,
      "grid_column": null,
      "grid_gap": null,
      "grid_row": null,
      "grid_template_areas": null,
      "grid_template_columns": null,
      "grid_template_rows": null,
      "height": null,
      "justify_content": null,
      "justify_items": null,
      "left": null,
      "margin": null,
      "max_height": null,
      "max_width": null,
      "min_height": null,
      "min_width": null,
      "object_fit": null,
      "object_position": null,
      "order": null,
      "overflow": null,
      "overflow_x": null,
      "overflow_y": null,
      "padding": null,
      "right": null,
      "top": null,
      "visibility": null,
      "width": null
     }
    },
    "d023c7458f2d43d5bbe47decbc01d168": {
     "model_module": "jupyter-widget-echo-testing",
     "model_module_version": "0.1.1",
     "model_name": "ExampleModel",
     "state": {
      "_dom_classes": [],
      "_model_module": "jupyter-widget-echo-testing",
      "_model_module_version": "0.1.1",
      "_model_name": "ExampleModel",
      "_view_count": null,
      "_view_module": "jupyter-widget-echo-testing",
      "_view_module_version": "0.1.1",
      "_view_name": "ExampleView",
      "layout": "IPY_MODEL_35ec37e76bdf430fb3e04408721563b2",
      "value": "2"
     }
    }
   }
  }
 },
 "nbformat": 4,
 "nbformat_minor": 1
}
