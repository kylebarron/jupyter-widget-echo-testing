{
 "cells": [
  {
   "cell_type": "code",
   "execution_count": 1,
   "id": "06ac8e4a-7b11-4f9f-99f4-683dd15842fe",
   "metadata": {},
   "outputs": [],
   "source": [
    "from jupyter_widget_echo_testing import ExampleWidget"
   ]
  },
  {
   "cell_type": "code",
   "execution_count": 2,
   "id": "2a38a6ec-3a03-41d8-8b3e-4a6276b9015d",
   "metadata": {},
   "outputs": [],
   "source": [
    "example = ExampleWidget()"
   ]
  },
  {
   "cell_type": "code",
   "execution_count": 3,
   "id": "0b59116e-e1f1-489c-80fe-4c5e82b57f07",
   "metadata": {},
   "outputs": [
    {
     "data": {
      "application/vnd.jupyter.widget-view+json": {
       "model_id": "3a93467750334b03bbecbebfb0aa7658",
       "version_major": 2,
       "version_minor": 0
      },
      "text/plain": [
       "ExampleWidget()"
      ]
     },
     "metadata": {},
     "output_type": "display_data"
    }
   ],
   "source": [
    "example"
   ]
  },
  {
   "cell_type": "code",
   "execution_count": null,
   "id": "197ad6f2-b9b7-407b-b022-85804349bded",
   "metadata": {},
   "outputs": [],
   "source": []
  }
 ],
 "metadata": {
  "kernelspec": {
   "display_name": "Python 3 (ipykernel)",
   "language": "python",
   "name": "python3"
  },
  "language_info": {
   "codemirror_mode": {
    "name": "ipython",
    "version": 3
   },
   "file_extension": ".py",
   "mimetype": "text/x-python",
   "name": "python",
   "nbconvert_exporter": "python",
   "pygments_lexer": "ipython3",
   "version": "3.8.10"
  }
 },
 "nbformat": 4,
 "nbformat_minor": 5
}
