{
  "nbformat": 4,
  "nbformat_minor": 0,
  "metadata": {
    "colab": {
      "name": "Colab example.ipynb",
      "provenance": [],
      "collapsed_sections": [],
      "authorship_tag": "ABX9TyN0cstcMrzcQkx5F4w9si2P",
      "include_colab_link": true
    },
    "kernelspec": {
      "name": "python3",
      "display_name": "Python 3"
    },
    "language_info": {
      "name": "python"
    },
    "widgets": {
      "application/vnd.jupyter.widget-state+json": {
        "d023c7458f2d43d5bbe47decbc01d168": {
          "model_module": "jupyter-widget-echo-testing",
          "model_name": "ExampleModel",
          "model_module_version": "0.1.1",
          "state": {
            "_view_name": "ExampleView",
            "_dom_classes": [],
            "_model_name": "ExampleModel",
            "_view_module": "jupyter-widget-echo-testing",
            "_model_module_version": "0.1.1",
            "value": "2",
            "_view_count": null,
            "_view_module_version": "0.1.1",
            "layout": "IPY_MODEL_35ec37e76bdf430fb3e04408721563b2",
            "_model_module": "jupyter-widget-echo-testing"
          }
        },
        "35ec37e76bdf430fb3e04408721563b2": {
          "model_module": "@jupyter-widgets/base",
          "model_name": "LayoutModel",
          "model_module_version": "1.2.0",
          "state": {
            "_view_name": "LayoutView",
            "grid_template_rows": null,
            "right": null,
            "justify_content": null,
            "_view_module": "@jupyter-widgets/base",
            "overflow": null,
            "_model_module_version": "1.2.0",
            "_view_count": null,
            "flex_flow": null,
            "width": null,
            "min_width": null,
            "border": null,
            "align_items": null,
            "bottom": null,
            "_model_module": "@jupyter-widgets/base",
            "top": null,
            "grid_column": null,
            "overflow_y": null,
            "overflow_x": null,
            "grid_auto_flow": null,
            "grid_area": null,
            "grid_template_columns": null,
            "flex": null,
            "_model_name": "LayoutModel",
            "justify_items": null,
            "grid_row": null,
            "max_height": null,
            "align_content": null,
            "visibility": null,
            "align_self": null,
            "height": null,
            "min_height": null,
            "padding": null,
            "grid_auto_rows": null,
            "grid_gap": null,
            "max_width": null,
            "order": null,
            "_view_module_version": "1.2.0",
            "grid_template_areas": null,
            "object_position": null,
            "object_fit": null,
            "grid_auto_columns": null,
            "margin": null,
            "display": null,
            "left": null
          }
        }
      }
    }
  },
  "cells": [
    {
      "cell_type": "markdown",
      "metadata": {
        "id": "view-in-github",
        "colab_type": "text"
      },
      "source": [
        "<a href=\"https://colab.research.google.com/github/kylebarron/jupyter-widget-echo-testing/blob/master/Colab_example.ipynb\" target=\"_parent\"><img src=\"https://colab.research.google.com/assets/colab-badge.svg\" alt=\"Open In Colab\"/></a>"
      ]
    },
    {
      "cell_type": "markdown",
      "metadata": {
        "id": "kQQUP_K2r7yp"
      },
      "source": [
        "The idea is:\n",
        "\n",
        "- Ping messages from JS back to Python\n",
        "- Store messages as a list on the Python side in the `ExampleWidget.messages`"
      ]
    },
    {
      "cell_type": "markdown",
      "metadata": {
        "id": "6f002cbPrcgb"
      },
      "source": [
        "Install plugin"
      ]
    },
    {
      "cell_type": "code",
      "metadata": {
        "id": "xLyKWfOprZQH"
      },
      "source": [
        "!pip install -U jupyter_widget_echo_testing"
      ],
      "execution_count": null,
      "outputs": []
    },
    {
      "cell_type": "markdown",
      "metadata": {
        "id": "jaJkSIJsre5e"
      },
      "source": [
        "Enable custom widgets"
      ]
    },
    {
      "cell_type": "code",
      "metadata": {
        "id": "1AFe5mM3o8hy"
      },
      "source": [
        "from google.colab import output\n",
        "output.enable_custom_widget_manager()"
      ],
      "execution_count": 1,
      "outputs": []
    },
    {
      "cell_type": "markdown",
      "metadata": {
        "id": "MKHFtfMqrgbc"
      },
      "source": [
        "Import widget"
      ]
    },
    {
      "cell_type": "code",
      "metadata": {
        "id": "oVqws0ScpCs1"
      },
      "source": [
        "from jupyter_widget_echo_testing import ExampleWidget"
      ],
      "execution_count": 10,
      "outputs": []
    },
    {
      "cell_type": "markdown",
      "metadata": {
        "id": "CL5-iKoXrqEc"
      },
      "source": [
        "When we create the widget view, the value is pinged back correctly."
      ]
    },
    {
      "cell_type": "code",
      "metadata": {
        "id": "Bm_udwpNpFjF",
        "colab": {
          "base_uri": "https://localhost:8080/",
          "height": 52,
          "referenced_widgets": [
            "d023c7458f2d43d5bbe47decbc01d168",
            "35ec37e76bdf430fb3e04408721563b2"
          ]
        },
        "outputId": "d8657ae5-f244-4ee2-babf-d8ee9744602c"
      },
      "source": [
        "w = ExampleWidget()\n",
        "w"
      ],
      "execution_count": 11,
      "outputs": [
        {
          "output_type": "display_data",
          "data": {
            "application/vnd.jupyter.widget-view+json": {
              "model_id": "d023c7458f2d43d5bbe47decbc01d168",
              "version_minor": 0,
              "version_major": 2
            },
            "text/plain": [
              "ExampleWidget()"
            ]
          },
          "metadata": {
            "application/vnd.jupyter.widget-view+json": {
              "colab": {
                "custom_widget_manager": {
                  "url": "https://ssl.gstatic.com/colaboratory-static/widgets/colab-cdn-widget-manager/e680a8b83b2ea152/manager.min.js"
                }
              }
            }
          }
        },
        {
          "output_type": "stream",
          "name": "stdout",
          "text": [
            "{'value': 'Hello World'}\n"
          ]
        }
      ]
    },
    {
      "cell_type": "markdown",
      "metadata": {
        "id": "d5zt-vtQrxuq"
      },
      "source": [
        "And on the Python side, the value of `messages` now contains one object:\n",
        "\n",
        "```py\n",
        "[{'value': 'Hello World'}]\n",
        "```\n",
        "\n",
        "This shows that JavaScript to Python messages over the Comm are still working normally."
      ]
    },
    {
      "cell_type": "code",
      "metadata": {
        "colab": {
          "base_uri": "https://localhost:8080/"
        },
        "id": "11a_QEDUpHrN",
        "outputId": "1beae90f-daa8-4799-846a-42b958ad85ba"
      },
      "source": [
        "w.messages"
      ],
      "execution_count": 12,
      "outputs": [
        {
          "output_type": "execute_result",
          "data": {
            "text/plain": [
              "[{'value': 'Hello World'}]"
            ]
          },
          "metadata": {},
          "execution_count": 12
        }
      ]
    },
    {
      "cell_type": "markdown",
      "metadata": {
        "id": "gxObJmYbsjIG"
      },
      "source": [
        "However the point of this example is to show what happens when an arbitrary comm message is sent to the JS side. When we call `send` with an object, the JS side should receive it, log it in the JS console, and send it back to Python."
      ]
    },
    {
      "cell_type": "code",
      "metadata": {
        "id": "a-XE0wBCqpKP"
      },
      "source": [
        "w.send({'foo': 'bar'})"
      ],
      "execution_count": 13,
      "outputs": []
    },
    {
      "cell_type": "code",
      "metadata": {
        "colab": {
          "base_uri": "https://localhost:8080/"
        },
        "id": "SkPwc4Cfs7h8",
        "outputId": "1cddcf12-58ed-4463-d9e2-4e1134fdc7b9"
      },
      "source": [
        "w.messages"
      ],
      "execution_count": 14,
      "outputs": [
        {
          "output_type": "execute_result",
          "data": {
            "text/plain": [
              "[{'value': 'Hello World'}]"
            ]
          },
          "metadata": {},
          "execution_count": 14
        }
      ]
    },
    {
      "cell_type": "markdown",
      "metadata": {
        "id": "4XC5IcNns0Jg"
      },
      "source": [
        "However this cell does nothing. As noted by no log in the console nor an additional message in our `messages` list, the message never made it to the JS side."
      ]
    },
    {
      "cell_type": "markdown",
      "metadata": {
        "id": "rW4m0tC0tOGp"
      },
      "source": [
        "But note that this missing behavior doesn't happen only for a custom `send` message. If you set a synced Traitlet attribute on the widget, in Jupyter Lab that would propagate to the JS side (and we'd get an echo'ed response) but here that doesn't happen."
      ]
    },
    {
      "cell_type": "code",
      "metadata": {
        "id": "4UpQNCbFqtZi"
      },
      "source": [
        "w.value = '2'"
      ],
      "execution_count": 16,
      "outputs": []
    },
    {
      "cell_type": "code",
      "metadata": {
        "colab": {
          "base_uri": "https://localhost:8080/"
        },
        "id": "3r7K3TL5ts-b",
        "outputId": "6dc5ea76-741d-4c82-c4fd-b531712b7066"
      },
      "source": [
        "w.messages"
      ],
      "execution_count": 17,
      "outputs": [
        {
          "output_type": "execute_result",
          "data": {
            "text/plain": [
              "[{'value': 'Hello World'}]"
            ]
          },
          "metadata": {},
          "execution_count": 17
        }
      ]
    },
    {
      "cell_type": "code",
      "metadata": {
        "id": "XHTDVj4Lqel8"
      },
      "source": [
        ""
      ],
      "execution_count": null,
      "outputs": []
    }
  ]
}