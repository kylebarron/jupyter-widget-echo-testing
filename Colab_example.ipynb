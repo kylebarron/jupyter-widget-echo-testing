{
  "nbformat": 4,
  "nbformat_minor": 0,
  "metadata": {
    "colab": {
      "name": "Colab example.ipynb",
      "provenance": [],
      "collapsed_sections": [],
      "authorship_tag": "ABX9TyP74JsL6Ujg3WUINszWqCZG",
      "include_colab_link": true
    },
    "kernelspec": {
      "name": "python3",
      "display_name": "Python 3"
    },
    "language_info": {
      "name": "python"
    },
    "widgets": {
      "application/vnd.jupyter.widget-state+json": {
        "4f0859bba22f4cc9b3b32dcec0ea3031": {
          "model_module": "jupyter-widget-echo-testing",
          "model_name": "ExampleModel",
          "model_module_version": "0.1.1",
          "state": {
            "_view_name": "ExampleView",
            "_dom_classes": [],
            "_model_name": "ExampleModel",
            "_view_module": "jupyter-widget-echo-testing",
            "_model_module_version": "0.1.1",
            "value": "1234",
            "_view_count": null,
            "_view_module_version": "0.1.1",
            "layout": "IPY_MODEL_96dac6d73c024193ab889c6641e8c285",
            "_model_module": "jupyter-widget-echo-testing"
          }
        },
        "96dac6d73c024193ab889c6641e8c285": {
          "model_module": "@jupyter-widgets/base",
          "model_name": "LayoutModel",
          "model_module_version": "1.2.0",
          "state": {
            "_view_name": "LayoutView",
            "grid_template_rows": null,
            "right": null,
            "justify_content": null,
            "_view_module": "@jupyter-widgets/base",
            "overflow": null,
            "_model_module_version": "1.2.0",
            "_view_count": null,
            "flex_flow": null,
            "width": null,
            "min_width": null,
            "border": null,
            "align_items": null,
            "bottom": null,
            "_model_module": "@jupyter-widgets/base",
            "top": null,
            "grid_column": null,
            "overflow_y": null,
            "overflow_x": null,
            "grid_auto_flow": null,
            "grid_area": null,
            "grid_template_columns": null,
            "flex": null,
            "_model_name": "LayoutModel",
            "justify_items": null,
            "grid_row": null,
            "max_height": null,
            "align_content": null,
            "visibility": null,
            "align_self": null,
            "height": null,
            "min_height": null,
            "padding": null,
            "grid_auto_rows": null,
            "grid_gap": null,
            "max_width": null,
            "order": null,
            "_view_module_version": "1.2.0",
            "grid_template_areas": null,
            "object_position": null,
            "object_fit": null,
            "grid_auto_columns": null,
            "margin": null,
            "display": null,
            "left": null
          }
        }
      }
    }
  },
  "cells": [
    {
      "cell_type": "markdown",
      "metadata": {
        "id": "view-in-github",
        "colab_type": "text"
      },
      "source": [
        "<a href=\"https://colab.research.google.com/github/kylebarron/jupyter-widget-echo-testing/blob/master/Colab_example.ipynb\" target=\"_parent\"><img src=\"https://colab.research.google.com/assets/colab-badge.svg\" alt=\"Open In Colab\"/></a>"
      ]
    },
    {
      "cell_type": "markdown",
      "metadata": {
        "id": "kQQUP_K2r7yp"
      },
      "source": [
        "## Jupyter widget echo: Colab\n",
        "\n",
        "This notebook serves to show how Colab has an incomplete implementation of the Jupyter Widget standard by omitting some messages from Python to JavaScript.\n",
        "\n",
        "The idea is:\n",
        "\n",
        "- Use a custom jupyter widget created just for debugging message transport between Python and JS\n",
        "- Send messages from Python to JS\n",
        "- Ping messages from JS back to Python\n",
        "- Store messages as a list on the Python side in the `ExampleWidget.messages`-"
      ]
    },
    {
      "cell_type": "markdown",
      "metadata": {
        "id": "6f002cbPrcgb"
      },
      "source": [
        "Install plugin"
      ]
    },
    {
      "cell_type": "code",
      "metadata": {
        "colab": {
          "base_uri": "https://localhost:8080/"
        },
        "id": "xLyKWfOprZQH",
        "outputId": "5eed6729-c217-4f27-e8fa-903092b93e59"
      },
      "source": [
        "!pip install -U jupyter_widget_echo_testing"
      ],
      "execution_count": 1,
      "outputs": [
        {
          "output_type": "stream",
          "name": "stdout",
          "text": [
            "Requirement already satisfied: jupyter_widget_echo_testing in /usr/local/lib/python3.7/dist-packages (0.1.1)\n",
            "Requirement already satisfied: ipywidgets>=7.0.0 in /usr/local/lib/python3.7/dist-packages (from jupyter_widget_echo_testing) (7.6.5)\n",
            "Requirement already satisfied: ipython>=4.0.0 in /usr/local/lib/python3.7/dist-packages (from ipywidgets>=7.0.0->jupyter_widget_echo_testing) (5.5.0)\n",
            "Requirement already satisfied: ipykernel>=4.5.1 in /usr/local/lib/python3.7/dist-packages (from ipywidgets>=7.0.0->jupyter_widget_echo_testing) (4.10.1)\n",
            "Requirement already satisfied: nbformat>=4.2.0 in /usr/local/lib/python3.7/dist-packages (from ipywidgets>=7.0.0->jupyter_widget_echo_testing) (5.1.3)\n",
            "Requirement already satisfied: widgetsnbextension~=3.5.0 in /usr/local/lib/python3.7/dist-packages (from ipywidgets>=7.0.0->jupyter_widget_echo_testing) (3.5.1)\n",
            "Requirement already satisfied: traitlets>=4.3.1 in /usr/local/lib/python3.7/dist-packages (from ipywidgets>=7.0.0->jupyter_widget_echo_testing) (5.1.0)\n",
            "Requirement already satisfied: jupyterlab-widgets>=1.0.0 in /usr/local/lib/python3.7/dist-packages (from ipywidgets>=7.0.0->jupyter_widget_echo_testing) (1.0.2)\n",
            "Requirement already satisfied: ipython-genutils~=0.2.0 in /usr/local/lib/python3.7/dist-packages (from ipywidgets>=7.0.0->jupyter_widget_echo_testing) (0.2.0)\n",
            "Requirement already satisfied: jupyter-client in /usr/local/lib/python3.7/dist-packages (from ipykernel>=4.5.1->ipywidgets>=7.0.0->jupyter_widget_echo_testing) (5.3.5)\n",
            "Requirement already satisfied: tornado>=4.0 in /usr/local/lib/python3.7/dist-packages (from ipykernel>=4.5.1->ipywidgets>=7.0.0->jupyter_widget_echo_testing) (5.1.1)\n",
            "Requirement already satisfied: pexpect in /usr/local/lib/python3.7/dist-packages (from ipython>=4.0.0->ipywidgets>=7.0.0->jupyter_widget_echo_testing) (4.8.0)\n",
            "Requirement already satisfied: setuptools>=18.5 in /usr/local/lib/python3.7/dist-packages (from ipython>=4.0.0->ipywidgets>=7.0.0->jupyter_widget_echo_testing) (57.4.0)\n",
            "Requirement already satisfied: prompt-toolkit<2.0.0,>=1.0.4 in /usr/local/lib/python3.7/dist-packages (from ipython>=4.0.0->ipywidgets>=7.0.0->jupyter_widget_echo_testing) (1.0.18)\n",
            "Requirement already satisfied: pygments in /usr/local/lib/python3.7/dist-packages (from ipython>=4.0.0->ipywidgets>=7.0.0->jupyter_widget_echo_testing) (2.6.1)\n",
            "Requirement already satisfied: simplegeneric>0.8 in /usr/local/lib/python3.7/dist-packages (from ipython>=4.0.0->ipywidgets>=7.0.0->jupyter_widget_echo_testing) (0.8.1)\n",
            "Requirement already satisfied: pickleshare in /usr/local/lib/python3.7/dist-packages (from ipython>=4.0.0->ipywidgets>=7.0.0->jupyter_widget_echo_testing) (0.7.5)\n",
            "Requirement already satisfied: decorator in /usr/local/lib/python3.7/dist-packages (from ipython>=4.0.0->ipywidgets>=7.0.0->jupyter_widget_echo_testing) (4.4.2)\n",
            "Requirement already satisfied: jupyter-core in /usr/local/lib/python3.7/dist-packages (from nbformat>=4.2.0->ipywidgets>=7.0.0->jupyter_widget_echo_testing) (4.8.1)\n",
            "Requirement already satisfied: jsonschema!=2.5.0,>=2.4 in /usr/local/lib/python3.7/dist-packages (from nbformat>=4.2.0->ipywidgets>=7.0.0->jupyter_widget_echo_testing) (2.6.0)\n",
            "Requirement already satisfied: six>=1.9.0 in /usr/local/lib/python3.7/dist-packages (from prompt-toolkit<2.0.0,>=1.0.4->ipython>=4.0.0->ipywidgets>=7.0.0->jupyter_widget_echo_testing) (1.15.0)\n",
            "Requirement already satisfied: wcwidth in /usr/local/lib/python3.7/dist-packages (from prompt-toolkit<2.0.0,>=1.0.4->ipython>=4.0.0->ipywidgets>=7.0.0->jupyter_widget_echo_testing) (0.2.5)\n",
            "Requirement already satisfied: notebook>=4.4.1 in /usr/local/lib/python3.7/dist-packages (from widgetsnbextension~=3.5.0->ipywidgets>=7.0.0->jupyter_widget_echo_testing) (5.3.1)\n",
            "Requirement already satisfied: nbconvert in /usr/local/lib/python3.7/dist-packages (from notebook>=4.4.1->widgetsnbextension~=3.5.0->ipywidgets>=7.0.0->jupyter_widget_echo_testing) (5.6.1)\n",
            "Requirement already satisfied: jinja2 in /usr/local/lib/python3.7/dist-packages (from notebook>=4.4.1->widgetsnbextension~=3.5.0->ipywidgets>=7.0.0->jupyter_widget_echo_testing) (2.11.3)\n",
            "Requirement already satisfied: Send2Trash in /usr/local/lib/python3.7/dist-packages (from notebook>=4.4.1->widgetsnbextension~=3.5.0->ipywidgets>=7.0.0->jupyter_widget_echo_testing) (1.8.0)\n",
            "Requirement already satisfied: terminado>=0.8.1 in /usr/local/lib/python3.7/dist-packages (from notebook>=4.4.1->widgetsnbextension~=3.5.0->ipywidgets>=7.0.0->jupyter_widget_echo_testing) (0.12.1)\n",
            "Requirement already satisfied: pyzmq>=13 in /usr/local/lib/python3.7/dist-packages (from jupyter-client->ipykernel>=4.5.1->ipywidgets>=7.0.0->jupyter_widget_echo_testing) (22.3.0)\n",
            "Requirement already satisfied: python-dateutil>=2.1 in /usr/local/lib/python3.7/dist-packages (from jupyter-client->ipykernel>=4.5.1->ipywidgets>=7.0.0->jupyter_widget_echo_testing) (2.8.2)\n",
            "Requirement already satisfied: ptyprocess in /usr/local/lib/python3.7/dist-packages (from terminado>=0.8.1->notebook>=4.4.1->widgetsnbextension~=3.5.0->ipywidgets>=7.0.0->jupyter_widget_echo_testing) (0.7.0)\n",
            "Requirement already satisfied: MarkupSafe>=0.23 in /usr/local/lib/python3.7/dist-packages (from jinja2->notebook>=4.4.1->widgetsnbextension~=3.5.0->ipywidgets>=7.0.0->jupyter_widget_echo_testing) (2.0.1)\n",
            "Requirement already satisfied: mistune<2,>=0.8.1 in /usr/local/lib/python3.7/dist-packages (from nbconvert->notebook>=4.4.1->widgetsnbextension~=3.5.0->ipywidgets>=7.0.0->jupyter_widget_echo_testing) (0.8.4)\n",
            "Requirement already satisfied: testpath in /usr/local/lib/python3.7/dist-packages (from nbconvert->notebook>=4.4.1->widgetsnbextension~=3.5.0->ipywidgets>=7.0.0->jupyter_widget_echo_testing) (0.5.0)\n",
            "Requirement already satisfied: defusedxml in /usr/local/lib/python3.7/dist-packages (from nbconvert->notebook>=4.4.1->widgetsnbextension~=3.5.0->ipywidgets>=7.0.0->jupyter_widget_echo_testing) (0.7.1)\n",
            "Requirement already satisfied: entrypoints>=0.2.2 in /usr/local/lib/python3.7/dist-packages (from nbconvert->notebook>=4.4.1->widgetsnbextension~=3.5.0->ipywidgets>=7.0.0->jupyter_widget_echo_testing) (0.3)\n",
            "Requirement already satisfied: pandocfilters>=1.4.1 in /usr/local/lib/python3.7/dist-packages (from nbconvert->notebook>=4.4.1->widgetsnbextension~=3.5.0->ipywidgets>=7.0.0->jupyter_widget_echo_testing) (1.5.0)\n",
            "Requirement already satisfied: bleach in /usr/local/lib/python3.7/dist-packages (from nbconvert->notebook>=4.4.1->widgetsnbextension~=3.5.0->ipywidgets>=7.0.0->jupyter_widget_echo_testing) (4.1.0)\n",
            "Requirement already satisfied: webencodings in /usr/local/lib/python3.7/dist-packages (from bleach->nbconvert->notebook>=4.4.1->widgetsnbextension~=3.5.0->ipywidgets>=7.0.0->jupyter_widget_echo_testing) (0.5.1)\n",
            "Requirement already satisfied: packaging in /usr/local/lib/python3.7/dist-packages (from bleach->nbconvert->notebook>=4.4.1->widgetsnbextension~=3.5.0->ipywidgets>=7.0.0->jupyter_widget_echo_testing) (21.0)\n",
            "Requirement already satisfied: pyparsing>=2.0.2 in /usr/local/lib/python3.7/dist-packages (from packaging->bleach->nbconvert->notebook>=4.4.1->widgetsnbextension~=3.5.0->ipywidgets>=7.0.0->jupyter_widget_echo_testing) (2.4.7)\n"
          ]
        }
      ]
    },
    {
      "cell_type": "markdown",
      "metadata": {
        "id": "jaJkSIJsre5e"
      },
      "source": [
        "Enable custom widgets"
      ]
    },
    {
      "cell_type": "code",
      "metadata": {
        "id": "1AFe5mM3o8hy"
      },
      "source": [
        "from google.colab import output\n",
        "output.enable_custom_widget_manager()"
      ],
      "execution_count": 2,
      "outputs": []
    },
    {
      "cell_type": "markdown",
      "metadata": {
        "id": "MKHFtfMqrgbc"
      },
      "source": [
        "Import widget"
      ]
    },
    {
      "cell_type": "code",
      "metadata": {
        "id": "oVqws0ScpCs1"
      },
      "source": [
        "from jupyter_widget_echo_testing import ExampleWidget"
      ],
      "execution_count": 3,
      "outputs": []
    },
    {
      "cell_type": "markdown",
      "metadata": {
        "id": "CL5-iKoXrqEc"
      },
      "source": [
        "Whenever we set the `value` property on the widget, the JS side sends a message back to Python. (See here: https://github.com/kylebarron/jupyter-widget-echo-testing/blob/bbcff9fa6d838377182c1d077bec673303fcd087/src/widget.ts#L55-L58).\n",
        "\n",
        "This happens correctly in Colab."
      ]
    },
    {
      "cell_type": "code",
      "metadata": {
        "id": "Bm_udwpNpFjF",
        "colab": {
          "base_uri": "https://localhost:8080/",
          "height": 52,
          "referenced_widgets": [
            "4f0859bba22f4cc9b3b32dcec0ea3031",
            "96dac6d73c024193ab889c6641e8c285"
          ]
        },
        "outputId": "92d81b37-5728-43e0-e9fc-d57a65ce2466"
      },
      "source": [
        "w = ExampleWidget()\n",
        "w"
      ],
      "execution_count": 4,
      "outputs": [
        {
          "output_type": "display_data",
          "data": {
            "application/vnd.jupyter.widget-view+json": {
              "model_id": "4f0859bba22f4cc9b3b32dcec0ea3031",
              "version_minor": 0,
              "version_major": 2
            },
            "text/plain": [
              "ExampleWidget()"
            ]
          },
          "metadata": {
            "application/vnd.jupyter.widget-view+json": {
              "colab": {
                "custom_widget_manager": {
                  "url": "https://ssl.gstatic.com/colaboratory-static/widgets/colab-cdn-widget-manager/e680a8b83b2ea152/manager.min.js"
                }
              }
            }
          }
        },
        {
          "output_type": "stream",
          "name": "stdout",
          "text": [
            "{'value': 'Hello World'}\n"
          ]
        }
      ]
    },
    {
      "cell_type": "markdown",
      "metadata": {
        "id": "d5zt-vtQrxuq"
      },
      "source": [
        "And on the Python side, the value of `messages` now contains one object:\n",
        "\n",
        "```py\n",
        "[{'value': 'Hello World'}]\n",
        "```\n",
        "\n",
        "This shows that JavaScript to Python messages over the Comm are still working normally."
      ]
    },
    {
      "cell_type": "code",
      "metadata": {
        "colab": {
          "base_uri": "https://localhost:8080/"
        },
        "id": "11a_QEDUpHrN",
        "outputId": "365385ce-ad75-4d67-c1bb-0d0d16a8dd59"
      },
      "source": [
        "w.messages"
      ],
      "execution_count": 5,
      "outputs": [
        {
          "output_type": "execute_result",
          "data": {
            "text/plain": [
              "[{'value': 'Hello World'}]"
            ]
          },
          "metadata": {},
          "execution_count": 5
        }
      ]
    },
    {
      "cell_type": "markdown",
      "metadata": {
        "id": "lOlNdLS6wuM_"
      },
      "source": [
        "However Colab is unable to send messages to an existing widget from a new cell. When we assign a new object to `w.value` in the next cell, what _should_ happen is:\n",
        "\n",
        "- Get passed correctly to the JS side\n",
        "- The value in the above widget view will be updated\n",
        "- We get a message back in Python\n",
        "\n",
        "But this doesn't happen in Colab"
      ]
    },
    {
      "cell_type": "code",
      "metadata": {
        "id": "TwQ1351dwtte"
      },
      "source": [
        "w.value = '1234'"
      ],
      "execution_count": 6,
      "outputs": []
    },
    {
      "cell_type": "markdown",
      "metadata": {
        "id": "jHKdRBpdxARZ"
      },
      "source": [
        "The value of `w.messages` hasn't changed."
      ]
    },
    {
      "cell_type": "code",
      "metadata": {
        "colab": {
          "base_uri": "https://localhost:8080/"
        },
        "id": "kO5mhkSqwtp-",
        "outputId": "cdd640b6-0c2d-4991-efe9-384369b6bd04"
      },
      "source": [
        "w.messages"
      ],
      "execution_count": 7,
      "outputs": [
        {
          "output_type": "execute_result",
          "data": {
            "text/plain": [
              "[{'value': 'Hello World'}]"
            ]
          },
          "metadata": {},
          "execution_count": 7
        }
      ]
    },
    {
      "cell_type": "markdown",
      "metadata": {
        "id": "EKNCHBFrxEqn"
      },
      "source": [
        "We should be able to send an arbitrary object to JS and that should be echoed back to Python, but that doesn't work."
      ]
    },
    {
      "cell_type": "code",
      "metadata": {
        "id": "eKsbXAAKwtgF"
      },
      "source": [
        "w.send({'foo': 'bar'})"
      ],
      "execution_count": 8,
      "outputs": []
    },
    {
      "cell_type": "markdown",
      "metadata": {
        "id": "WHUtLhlSxPU1"
      },
      "source": [
        "The value of `w.messages` still hasn't changed."
      ]
    },
    {
      "cell_type": "code",
      "metadata": {
        "colab": {
          "base_uri": "https://localhost:8080/"
        },
        "id": "S7SqrDYUxL_-",
        "outputId": "b215c93d-8890-4a35-a8b6-2f9b9243be04"
      },
      "source": [
        "w.messages"
      ],
      "execution_count": 9,
      "outputs": [
        {
          "output_type": "execute_result",
          "data": {
            "text/plain": [
              "[{'value': 'Hello World'}]"
            ]
          },
          "metadata": {},
          "execution_count": 9
        }
      ]
    },
    {
      "cell_type": "code",
      "metadata": {
        "id": "XHTDVj4Lqel8"
      },
      "source": [
        ""
      ],
      "execution_count": null,
      "outputs": []
    }
  ]
}